{
 "cells": [
  {
   "cell_type": "code",
   "execution_count": 2,
   "metadata": {
    "pycharm": {
     "is_executing": false
    }
   },
   "outputs": [],
   "source": [
    "import sys\n",
    "sys.path.append(\"/home/wgar/PRockClassify/\")"
   ]
  },
  {
   "cell_type": "code",
   "execution_count": 3,
   "metadata": {
    "pycharm": {
     "is_executing": false
    }
   },
   "outputs": [],
   "source": [
    "import os\n",
    "import argparse\n",
    "import torch\n",
    "import torch.optim\n",
    "import numpy as np\n",
    "\n",
    "from sklearn.metrics import accuracy_score, precision_score, recall_score, confusion_matrix\n",
    "\n",
    "from custom_logging import get_logger\n",
    "from data.DatasetManifest import DatasetManifest\n",
    "from data.dataloader import MusicDataLoader, MusicDataset\n",
    "from data.WindowedMFCCFeatureExtractor import WindowedMFCCFeatureExtractor\n",
    "# from data.MFCCFeatureExtractor import MFCCFeatureExtractor\n",
    "from EncoderDecoder.model import ConvED"
   ]
  },
  {
   "cell_type": "code",
   "execution_count": 4,
   "metadata": {
    "pycharm": {
     "is_executing": false
    }
   },
   "outputs": [],
   "source": [
    "opt = {\"root_prog\": \"/media/wgar/New Volume1/dataset/cap6610sp19_project/Progressive Rock Songs/\",\n",
    "       \"root_nonprog\": \"/media/wgar/New Volume1/dataset/cap6610sp19_project/0_Not_prog/\",\n",
    "       \"num_workers\": 4,\n",
    "       \"batch_size\": 2,\n",
    "       \"seed\": 9,\n",
    "       \"cuda\": True,\n",
    "       \"debug_dataset_size\": 32,\n",
    "       \"sample_rate\": 44100\n",
    "      }"
   ]
  },
  {
   "cell_type": "code",
   "execution_count": 5,
   "metadata": {
    "pycharm": {
     "is_executing": false
    }
   },
   "outputs": [],
   "source": [
    "torch.manual_seed(opt['seed'])\n",
    "torch.cuda.manual_seed_all(opt['seed'])\n",
    "np.random.seed(opt['seed'])\n",
    "\n",
    "device = torch.device(\"cuda\" if opt['cuda'] else 'cpu')"
   ]
  },
  {
   "cell_type": "code",
   "execution_count": 6,
   "metadata": {
    "pycharm": {
     "is_executing": false
    }
   },
   "outputs": [],
   "source": [
    "mfcc_feature_extractor = WindowedMFCCFeatureExtractor(opt[\"sample_rate\"], 20, 512, 2048, 12)"
   ]
  },
  {
   "cell_type": "code",
   "execution_count": 7,
   "metadata": {
    "pycharm": {
     "is_executing": false
    }
   },
   "outputs": [
    {
     "name": "stderr",
     "output_type": "stream",
     "text": [
      "  DEBUG    | DatasetManifest | number of train songs:\t16\n",
      "  DEBUG    | DatasetManifest | number of val songs:\t8\n",
      "  DEBUG    | DatasetManifest | number of test songs:\t8\n"
     ]
    }
   ],
   "source": [
    "dataset_manifest = DatasetManifest(opt, debug=True, quiet=False)"
   ]
  },
  {
   "cell_type": "code",
   "execution_count": 8,
   "metadata": {
    "pycharm": {
     "is_executing": false
    }
   },
   "outputs": [
    {
     "name": "stderr",
     "output_type": "stream",
     "text": [
      "  INFO     | dataloader | Pre-caching features...\n",
      "100%|██████████| 16/16 [00:17<00:00,  1.06s/it]\n",
      "  INFO     | dataloader | Finished initializing dataloader.\n"
     ]
    }
   ],
   "source": [
    "mel_train = MusicDataset(opt, 'train', mfcc_feature_extractor, dataset_manifest,\n",
    "                              quiet=True, pre_cache=True)\n",
    "train_loader = MusicDataLoader(mel_train,\n",
    "                               batch_size=opt[\"batch_size\"],\n",
    "                               shuffle=True,\n",
    "                               num_workers=opt['num_workers'])"
   ]
  },
  {
   "cell_type": "code",
   "execution_count": 9,
   "metadata": {
    "pycharm": {
     "is_executing": false
    }
   },
   "outputs": [],
   "source": [
    "mt0 = mel_train.__getitem__(0)['x']"
   ]
  },
  {
   "cell_type": "code",
   "execution_count": 10,
   "metadata": {
    "pycharm": {
     "is_executing": false,
     "metadata": false,
     "name": "#%%\n"
    }
   },
   "outputs": [
    {
     "data": {
      "text/plain": [
       "torch.Size([230, 48])"
      ]
     },
     "execution_count": 10,
     "metadata": {},
     "output_type": "execute_result"
    }
   ],
   "source": [
    "mt0.shape"
   ]
  },
  {
   "cell_type": "code",
   "execution_count": 13,
   "metadata": {
    "pycharm": {
     "is_executing": false
    }
   },
   "outputs": [
    {
     "name": "stdout",
     "output_type": "stream",
     "text": [
      "torch.Size([2, 1, 230, 48])\n",
      "tensor([1, 0], dtype=torch.int32)\n",
      "tensor([1., 1.])\n",
      "torch.Size([2, 1, 230, 48])\n",
      "tensor([0, 0], dtype=torch.int32)\n",
      "tensor([1., 1.])\n",
      "torch.Size([2, 1, 230, 48])\n",
      "tensor([0, 0], dtype=torch.int32)\n",
      "tensor([1., 1.])\n",
      "torch.Size([2, 1, 230, 48])\n",
      "tensor([0, 0], dtype=torch.int32)\n",
      "tensor([1.0000, 0.7500])\n",
      "torch.Size([2, 1, 230, 48])\n",
      "tensor([0, 0], dtype=torch.int32)\n",
      "tensor([1.0000, 0.7500])\n",
      "torch.Size([2, 1, 230, 48])\n",
      "tensor([0, 0], dtype=torch.int32)\n",
      "tensor([1.0000, 0.7500])\n",
      "torch.Size([2, 1, 230, 48])\n",
      "tensor([0, 1], dtype=torch.int32)\n",
      "tensor([1., 1.])\n",
      "torch.Size([2, 1, 230, 48])\n",
      "tensor([0, 0], dtype=torch.int32)\n",
      "tensor([1.0000, 0.7500])\n"
     ]
    }
   ],
   "source": [
    "for data in train_loader:\n",
    "    print(data[0].shape)\n",
    "    print(data[1])\n",
    "    print(data[2])"
   ]
  },
  {
   "cell_type": "code",
   "execution_count": 14,
   "metadata": {
    "pycharm": {}
   },
   "outputs": [],
   "source": [
    "from EncoderDecoder.model import EncoderRNN, DecoderRNN, MaskConv"
   ]
  },
  {
   "cell_type": "code",
   "execution_count": 94,
   "metadata": {},
   "outputs": [],
   "source": [
    "for data in train_loader:\n",
    "    inputs, targets, input_percentages = data\n",
    "    break"
   ]
  },
  {
   "cell_type": "code",
   "execution_count": 95,
   "metadata": {},
   "outputs": [],
   "source": [
    "input_size = 48\n",
    "hidden_size = 512\n",
    "latent_size = 100"
   ]
  },
  {
   "cell_type": "code",
   "execution_count": 96,
   "metadata": {},
   "outputs": [],
   "source": [
    "import torch.nn as nn"
   ]
  },
  {
   "cell_type": "code",
   "execution_count": 97,
   "metadata": {},
   "outputs": [
    {
     "data": {
      "text/plain": [
       "tensor([48, 36], dtype=torch.int32)"
      ]
     },
     "execution_count": 97,
     "metadata": {},
     "output_type": "execute_result"
    }
   ],
   "source": [
    "real_lengths = (inputs.shape[3] * input_percentages).int()\n",
    "real_lengths"
   ]
  },
  {
   "cell_type": "code",
   "execution_count": 98,
   "metadata": {},
   "outputs": [],
   "source": [
    "inputs_bak = inputs"
   ]
  },
  {
   "cell_type": "code",
   "execution_count": 99,
   "metadata": {},
   "outputs": [
    {
     "name": "stdout",
     "output_type": "stream",
     "text": [
      "torch.Size([2, 1, 230, 48])\n",
      "torch.Size([2, 230, 48])\n"
     ]
    },
    {
     "data": {
      "text/plain": [
       "torch.Size([2, 48, 230])"
      ]
     },
     "execution_count": 99,
     "metadata": {},
     "output_type": "execute_result"
    }
   ],
   "source": [
    "print(inputs.shape)\n",
    "print(inputs.squeeze(1).shape)\n",
    "inputs.squeeze(1).transpose(1, 2).shape"
   ]
  },
  {
   "cell_type": "code",
   "execution_count": 100,
   "metadata": {},
   "outputs": [],
   "source": [
    "inputs = inputs.squeeze(1).transpose(1, 2)"
   ]
  },
  {
   "cell_type": "code",
   "execution_count": 101,
   "metadata": {},
   "outputs": [
    {
     "data": {
      "text/plain": [
       "torch.Size([84, 230])"
      ]
     },
     "execution_count": 101,
     "metadata": {},
     "output_type": "execute_result"
    }
   ],
   "source": [
    "packed = nn.utils.rnn.pack_padded_sequence(inputs, real_lengths, batch_first=True)\n",
    "packed.data.shape"
   ]
  },
  {
   "cell_type": "code",
   "execution_count": 102,
   "metadata": {},
   "outputs": [
    {
     "data": {
      "text/plain": [
       "torch.Size([2, 48, 230])"
      ]
     },
     "execution_count": 102,
     "metadata": {},
     "output_type": "execute_result"
    }
   ],
   "source": [
    "unpacked, real_lengths = nn.utils.rnn.pad_packed_sequence(packed, batch_first=True)\n",
    "unpacked.shape"
   ]
  },
  {
   "cell_type": "code",
   "execution_count": 103,
   "metadata": {},
   "outputs": [],
   "source": [
    "packed = nn.utils.rnn.pack_padded_sequence(inputs, real_lengths, batch_first=True)"
   ]
  },
  {
   "cell_type": "code",
   "execution_count": 111,
   "metadata": {},
   "outputs": [],
   "source": [
    "rnn = nn.LSTM(input_size=230, hidden_size=100, bidirectional=False)"
   ]
  },
  {
   "cell_type": "code",
   "execution_count": 112,
   "metadata": {},
   "outputs": [],
   "source": [
    "x, h = rnn(packed)"
   ]
  },
  {
   "cell_type": "code",
   "execution_count": 113,
   "metadata": {},
   "outputs": [],
   "source": [
    "unpacked, real_lengths = nn.utils.rnn.pad_packed_sequence(x, batch_first=True)"
   ]
  },
  {
   "cell_type": "code",
   "execution_count": 114,
   "metadata": {},
   "outputs": [
    {
     "data": {
      "text/plain": [
       "torch.Size([2, 48, 100])"
      ]
     },
     "execution_count": 114,
     "metadata": {},
     "output_type": "execute_result"
    }
   ],
   "source": [
    "unpacked.shape"
   ]
  },
  {
   "cell_type": "code",
   "execution_count": 115,
   "metadata": {},
   "outputs": [],
   "source": [
    "fc = nn.Linear(100, 2)"
   ]
  },
  {
   "cell_type": "code",
   "execution_count": 116,
   "metadata": {},
   "outputs": [],
   "source": [
    "wx = fc(unpacked)"
   ]
  },
  {
   "cell_type": "code",
   "execution_count": 118,
   "metadata": {},
   "outputs": [
    {
     "data": {
      "text/plain": [
       "torch.Size([2, 48, 2])"
      ]
     },
     "execution_count": 118,
     "metadata": {},
     "output_type": "execute_result"
    }
   ],
   "source": [
    "wx.shape"
   ]
  },
  {
   "cell_type": "code",
   "execution_count": null,
   "metadata": {},
   "outputs": [],
   "source": []
  }
 ],
 "metadata": {
  "kernelspec": {
   "display_name": "Python 3",
   "language": "python",
   "name": "python3"
  },
  "language_info": {
   "codemirror_mode": {
    "name": "ipython",
    "version": 3
   },
   "file_extension": ".py",
   "mimetype": "text/x-python",
   "name": "python",
   "nbconvert_exporter": "python",
   "pygments_lexer": "ipython3",
   "version": "3.6.7"
  }
 },
 "nbformat": 4,
 "nbformat_minor": 2
}
