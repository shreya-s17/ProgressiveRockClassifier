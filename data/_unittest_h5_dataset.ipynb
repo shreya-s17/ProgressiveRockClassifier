{
 "cells": [
  {
   "cell_type": "code",
   "execution_count": 2,
   "metadata": {},
   "outputs": [],
   "source": [
    "import os\n",
    "import tables\n",
    "import numpy as np"
   ]
  },
  {
   "cell_type": "code",
   "execution_count": 38,
   "metadata": {
    "collapsed": true
   },
   "outputs": [],
   "source": [
    "fp = \"/media/wgar/WD_Passport_4TB1/dataset/CAP6610_Music/dataset_bank.h5\""
   ]
  },
  {
   "cell_type": "code",
   "execution_count": 39,
   "metadata": {
    "collapsed": true
   },
   "outputs": [],
   "source": [
    "h5file = tables.open_file(fp, mode='r', title=\"MP3 Audio Dataset\")"
   ]
  },
  {
   "cell_type": "code",
   "execution_count": 40,
   "metadata": {},
   "outputs": [
    {
     "name": "stdout",
     "output_type": "stream",
     "text": [
      "0\n",
      "0\n",
      "(2, 10168284)\n",
      "(2, 20, 19860)\n",
      "1\n",
      "0\n",
      "(2, 11054400)\n",
      "(2, 20, 21591)\n",
      "10\n",
      "0\n",
      "(2, 9709056)\n",
      "(2, 20, 18964)\n",
      "11\n",
      "0\n",
      "(2, 8751204)\n",
      "(2, 20, 17093)\n",
      "12\n",
      "0\n",
      "(2, 10029516)\n",
      "(2, 20, 19589)\n",
      "13\n",
      "0\n",
      "(2, 8277864)\n",
      "(2, 20, 16168)\n",
      "14\n",
      "0\n",
      "(2, 10455816)\n",
      "(2, 20, 20422)\n",
      "15\n",
      "0\n",
      "(2, 11044404)\n",
      "(2, 20, 21572)\n",
      "16\n",
      "0\n",
      "(2, 9588516)\n",
      "(2, 20, 18728)\n",
      "17\n",
      "0\n",
      "(2, 8741796)\n",
      "(2, 20, 17074)\n",
      "18\n",
      "0\n",
      "(2, 6350400)\n",
      "(2, 20, 12404)\n",
      "19\n",
      "0\n",
      "(2, 10848600)\n",
      "(2, 20, 21189)\n",
      "2\n",
      "0\n",
      "(2, 9681455)\n",
      "(2, 20, 18910)\n",
      "20\n",
      "1\n",
      "(2, 24454920)\n",
      "(2, 20, 47764)\n",
      "21\n",
      "1\n",
      "(2, 23197188)\n",
      "(2, 20, 45308)\n",
      "22\n",
      "1\n",
      "(2, 19698688)\n",
      "(2, 20, 38475)\n",
      "23\n",
      "1\n",
      "(2, 13797420)\n",
      "(2, 20, 26949)\n",
      "24\n",
      "1\n",
      "(2, 11343696)\n",
      "(2, 20, 22156)\n",
      "25\n",
      "1\n",
      "(2, 15295644)\n",
      "(2, 20, 29875)\n",
      "26\n",
      "1\n",
      "(2, 23015496)\n",
      "(2, 20, 44953)\n",
      "27\n",
      "1\n",
      "(2, 19571580)\n",
      "(2, 20, 38226)\n",
      "28\n",
      "1\n",
      "(2, 14419524)\n",
      "(2, 20, 28164)\n",
      "29\n",
      "1\n",
      "(2, 21388500)\n",
      "(2, 20, 41775)\n",
      "3\n",
      "0\n",
      "(2, 8583036)\n",
      "(2, 20, 16764)\n",
      "30\n",
      "1\n",
      "(2, 17450076)\n",
      "(2, 20, 34083)\n",
      "31\n",
      "1\n",
      "(2, 21782460)\n",
      "(2, 20, 42544)\n",
      "32\n",
      "1\n",
      "(2, 11618880)\n",
      "(2, 20, 22694)\n",
      "33\n",
      "1\n",
      "(2, 22101744)\n",
      "(2, 20, 43168)\n",
      "34\n",
      "1\n",
      "(2, 14555940)\n",
      "(2, 20, 28430)\n",
      "35\n",
      "1\n",
      "(2, 25231080)\n",
      "(2, 20, 49280)\n",
      "36\n",
      "1\n",
      "(2, 18671940)\n",
      "(2, 20, 36469)\n",
      "37\n",
      "1\n",
      "(2, 6697320)\n",
      "(2, 20, 13081)\n",
      "38\n",
      "1\n",
      "(2, 30438996)\n",
      "(2, 20, 59452)\n",
      "39\n",
      "1\n",
      "(2, 14612976)\n",
      "(2, 20, 28541)\n",
      "4\n",
      "0\n",
      "(2, 7598724)\n",
      "(2, 20, 14842)\n",
      "5\n",
      "0\n",
      "(2, 10100076)\n",
      "(2, 20, 19727)\n",
      "6\n",
      "0\n",
      "(2, 11730600)\n",
      "(2, 20, 22912)\n",
      "7\n",
      "0\n",
      "(2, 12339180)\n",
      "(2, 20, 24100)\n",
      "8\n",
      "0\n",
      "(2, 10384080)\n",
      "(2, 20, 20282)\n",
      "9\n",
      "0\n",
      "(2, 8518944)\n",
      "(2, 20, 16639)\n"
     ]
    },
    {
     "name": "stderr",
     "output_type": "stream",
     "text": [
      "/home/wgar/anaconda2/envs/pytorch/lib/python3.6/site-packages/tables/leaf.py:414: PerformanceWarning: The Leaf ``/sample_38/raw`` is exceeding the maximum recommended rowsize (104857600 bytes);\n",
      "be ready to see PyTables asking for *lots* of memory and possibly slow\n",
      "I/O.  You may want to reduce the rowsize by trimming the value of\n",
      "dimensions that are orthogonal (and preferably close) to the *main*\n",
      "dimension of this leave.  Alternatively, in case you have specified a\n",
      "very small/large chunksize, you may want to increase/decrease it.\n",
      "  PerformanceWarning)\n"
     ]
    }
   ],
   "source": [
    "for sample in h5file.root:\n",
    "    print(sample._v_attrs.number_id)\n",
    "    print(sample._v_attrs.concept)\n",
    "    print(sample.raw.shape)    \n",
    "    print(sample.mfccs.shape)    "
   ]
  },
  {
   "cell_type": "code",
   "execution_count": 45,
   "metadata": {},
   "outputs": [
    {
     "data": {
      "text/plain": [
       "(20, 19860)"
      ]
     },
     "execution_count": 45,
     "metadata": {},
     "output_type": "execute_result"
    }
   ],
   "source": [
    "h5file.root['sample_0'].mfccs[0].shape"
   ]
  },
  {
   "cell_type": "code",
   "execution_count": 47,
   "metadata": {},
   "outputs": [
    {
     "data": {
      "text/plain": [
       "0"
      ]
     },
     "execution_count": 47,
     "metadata": {},
     "output_type": "execute_result"
    }
   ],
   "source": [
    "h5file.root['sample_0']._v_attrs.concept"
   ]
  },
  {
   "cell_type": "code",
   "execution_count": 36,
   "metadata": {
    "collapsed": true
   },
   "outputs": [],
   "source": [
    "h5file.close()"
   ]
  },
  {
   "cell_type": "code",
   "execution_count": null,
   "metadata": {
    "collapsed": true
   },
   "outputs": [],
   "source": []
  }
 ],
 "metadata": {
  "kernelspec": {
   "display_name": "Python 3",
   "language": "python",
   "name": "python3"
  },
  "language_info": {
   "codemirror_mode": {
    "name": "ipython",
    "version": 3
   },
   "file_extension": ".py",
   "mimetype": "text/x-python",
   "name": "python",
   "nbconvert_exporter": "python",
   "pygments_lexer": "ipython3",
   "version": "3.6.7"
  }
 },
 "nbformat": 4,
 "nbformat_minor": 2
}
