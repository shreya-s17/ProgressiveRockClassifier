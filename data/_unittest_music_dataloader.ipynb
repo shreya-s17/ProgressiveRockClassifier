{
 "cells": [
  {
   "cell_type": "code",
   "execution_count": 1,
   "metadata": {},
   "outputs": [],
   "source": [
    "import sys\n",
    "import importlib\n",
    "sys.path.append(\"/home/wgar/PRockClassify/\")"
   ]
  },
  {
   "cell_type": "code",
   "execution_count": 2,
   "metadata": {},
   "outputs": [],
   "source": [
    "from torch.utils.data import DataLoader\n",
    "from data.dataloader import MusicDataset\n",
    "from global_constants import *"
   ]
  },
  {
   "cell_type": "code",
   "execution_count": 3,
   "metadata": {
    "collapsed": true
   },
   "outputs": [],
   "source": [
    "opt = {\"dataset_bank\": \"/media/wgar/WD_Passport_4TB1/dataset/CAP6610_Music/dataset_bank.h5\",\n",
    "       \"batch_size\": 16}"
   ]
  },
  {
   "cell_type": "code",
   "execution_count": 4,
   "metadata": {},
   "outputs": [],
   "source": [
    "dataset_mfcc = MusicDataset(opt, 'train', quiet=True)\n",
    "dataset_raw = MusicDataset(opt, 'train', type=RAW, quiet=True)"
   ]
  },
  {
   "cell_type": "code",
   "execution_count": 5,
   "metadata": {},
   "outputs": [],
   "source": [
    "loader = DataLoader(dataset_mfcc, batch_size=opt[\"batch_size\"], shuffle=True)"
   ]
  },
  {
   "cell_type": "code",
   "execution_count": 6,
   "metadata": {},
   "outputs": [
    {
     "name": "stdout",
     "output_type": "stream",
     "text": [
      "torch.Size([20])\n",
      "torch.Size([10168284])\n",
      "torch.Size([20])\n",
      "torch.Size([11054400])\n",
      "torch.Size([20])\n",
      "torch.Size([9681455])\n",
      "torch.Size([20])\n",
      "torch.Size([8583036])\n",
      "torch.Size([20])\n",
      "torch.Size([7598724])\n",
      "torch.Size([20])\n",
      "torch.Size([10100076])\n",
      "torch.Size([20])\n",
      "torch.Size([11730600])\n",
      "torch.Size([20])\n",
      "torch.Size([12339180])\n",
      "torch.Size([20])\n",
      "torch.Size([10384080])\n",
      "torch.Size([20])\n",
      "torch.Size([8518944])\n"
     ]
    }
   ],
   "source": [
    "for i in range(10):\n",
    "    d = dataset_mfcc.__getitem__(i)\n",
    "    print(d['x'].shape)\n",
    "    d = dataset_raw.__getitem__(i)\n",
    "    print(d['x'].shape)"
   ]
  },
  {
   "cell_type": "code",
   "execution_count": 10,
   "metadata": {
    "scrolled": true
   },
   "outputs": [
    {
     "name": "stdout",
     "output_type": "stream",
     "text": [
      "torch.Size([16, 20])\n",
      "torch.Size([16])\n"
     ]
    }
   ],
   "source": [
    "for data in loader:\n",
    "    print(data['x'].shape)\n",
    "    print(data['gt'].shape)\n",
    "    break"
   ]
  },
  {
   "cell_type": "markdown",
   "metadata": {},
   "source": [
    "### TODO: For raw audio waveform input, must decide on trimming strategy."
   ]
  }
 ],
 "metadata": {
  "kernelspec": {
   "display_name": "Python 3",
   "language": "python",
   "name": "python3"
  },
  "language_info": {
   "codemirror_mode": {
    "name": "ipython",
    "version": 3
   },
   "file_extension": ".py",
   "mimetype": "text/x-python",
   "name": "python",
   "nbconvert_exporter": "python",
   "pygments_lexer": "ipython3",
   "version": "3.6.7"
  }
 },
 "nbformat": 4,
 "nbformat_minor": 2
}
